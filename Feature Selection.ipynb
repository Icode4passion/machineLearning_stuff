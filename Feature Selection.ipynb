{
 "cells": [
  {
   "cell_type": "markdown",
   "metadata": {},
   "source": [
    "# Feature Selection\n",
    "###### code from https://machinelearningmastery.com/feature-selection-machine-learning-python/\n",
    "### 1 Univarient Selection"
   ]
  },
  {
   "cell_type": "code",
   "execution_count": 31,
   "metadata": {
    "collapsed": true
   },
   "outputs": [],
   "source": [
    "import pandas as pd\n",
    "import numpy as np\n",
    "from sklearn.feature_selection import SelectKBest\n",
    "from sklearn.feature_selection import chi2"
   ]
  },
  {
   "cell_type": "code",
   "execution_count": 32,
   "metadata": {},
   "outputs": [],
   "source": [
    "url = \"https://raw.githubusercontent.com/jbrownlee/Datasets/master/pima-indians-diabetes.data.csv\"\n",
    "names = ['preg', 'plas', 'pres', 'skin', 'test', 'mass', 'pedi', 'age', 'class']\n",
    "df = pd.read_csv(url,names=names)\n",
    "df_array = df.values\n",
    "X = df_array[:,0:8]\n",
    "Y = df_array[:,8]\n",
    "#df.info()"
   ]
  },
  {
   "cell_type": "code",
   "execution_count": 33,
   "metadata": {},
   "outputs": [
    {
     "name": "stdout",
     "output_type": "stream",
     "text": [
      "[  111.51969064  1411.88704064    17.60537322    53.10803984  2175.56527292\n",
      "   127.66934333     5.39268155   181.30368904]\n"
     ]
    },
    {
     "data": {
      "text/plain": [
       "array([[ 148. ,    0. ,   33.6,   50. ],\n",
       "       [  85. ,    0. ,   26.6,   31. ],\n",
       "       [ 183. ,    0. ,   23.3,   32. ],\n",
       "       ..., \n",
       "       [ 121. ,  112. ,   26.2,   30. ],\n",
       "       [ 126. ,    0. ,   30.1,   47. ],\n",
       "       [  93. ,    0. ,   30.4,   23. ]])"
      ]
     },
     "execution_count": 33,
     "metadata": {},
     "output_type": "execute_result"
    }
   ],
   "source": [
    "\n",
    "X_train = df.iloc[:, :8]\n",
    "Y_train = df['class']\n",
    "selBest = SelectKBest(score_func=chi2,k=4)\n",
    "selBest_fit = selBest.fit(X_train,Y_train)\n",
    "print(selBest_fit.scores_)\n",
    "feature= selBest_fit.transform(X_train)\n",
    "feature"
   ]
  },
  {
   "cell_type": "markdown",
   "metadata": {},
   "source": [
    "### Recursive Feature Elimination\n"
   ]
  },
  {
   "cell_type": "code",
   "execution_count": 43,
   "metadata": {},
   "outputs": [
    {
     "name": "stdout",
     "output_type": "stream",
     "text": [
      "Number of features 4\n",
      "Feature Ranking [1 1 2 4 5 1 1 3]\n",
      "Selected features [ True  True False False False  True  True False]\n"
     ]
    }
   ],
   "source": [
    "#feature extraction using RFC by using Logisticregression\n",
    "from sklearn.feature_selection import RFE\n",
    "from sklearn.linear_model import LogisticRegression\n",
    "model = LogisticRegression()\n",
    "rfe = RFE(model,n_features_to_select=None)\n",
    "ref_fit = rfe.fit(X_train,Y_train)\n",
    "print(\"Number of features {}\".format(ref_fit.n_features_))\n",
    "print(\"Feature Ranking {}\".format(ref_fit.ranking_))\n",
    "print(\"Selected features {}\".format(ref_fit.support_))"
   ]
  },
  {
   "cell_type": "markdown",
   "metadata": {},
   "source": [
    "### Tree"
   ]
  },
  {
   "cell_type": "code",
   "execution_count": 50,
   "metadata": {},
   "outputs": [
    {
     "name": "stdout",
     "output_type": "stream",
     "text": [
      "NUmber of features [ 0.06248798  0.31625523  0.11361789  0.01450493  0.02627933  0.21892214\n",
      "  0.1253704   0.12256211]\n",
      "NUmber of outputs 1\n"
     ]
    }
   ],
   "source": [
    "from sklearn.tree import DecisionTreeClassifier\n",
    "dtc = DecisionTreeClassifier(criterion='gini',splitter='best')\n",
    "dtc.fit(X_train,Y_train)\n",
    "print(\"NUmber of features {}\".format(dtc.feature_importances_))\n",
    "print(\"NUmber of outputs {}\".format(dtc.n_outputs_))"
   ]
  },
  {
   "cell_type": "markdown",
   "metadata": {},
   "source": [
    "### Ensemble Tree"
   ]
  },
  {
   "cell_type": "code",
   "execution_count": 53,
   "metadata": {},
   "outputs": [
    {
     "name": "stdout",
     "output_type": "stream",
     "text": [
      "NUmber of features [ 0.09150978  0.26671556  0.08931932  0.06076456  0.07422954  0.16169628\n",
      "  0.12052255  0.1352424 ]\n"
     ]
    }
   ],
   "source": [
    "from sklearn.ensemble import RandomForestClassifier,ExtraTreesClassifier\n",
    "rfc= RandomForestClassifier()\n",
    "rfc.fit(X_train,Y_train)\n",
    "print(\"NUmber of features {}\".format(rfc.feature_importances_))"
   ]
  },
  {
   "cell_type": "code",
   "execution_count": 55,
   "metadata": {},
   "outputs": [
    {
     "name": "stdout",
     "output_type": "stream",
     "text": [
      "NUmber of features [ 0.11661201  0.2315662   0.0997121   0.07375327  0.07361915  0.14338787\n",
      "  0.11879784  0.14255156]\n"
     ]
    }
   ],
   "source": [
    "etc = ExtraTreesClassifier()\n",
    "etc.fit(X_train,Y_train)\n",
    "print(\"NUmber of features {}\".format(etc.feature_importances_))"
   ]
  },
  {
   "cell_type": "markdown",
   "metadata": {},
   "source": [
    "#### wine quality problem\n"
   ]
  },
  {
   "cell_type": "code",
   "execution_count": 61,
   "metadata": {},
   "outputs": [
    {
     "data": {
      "text/html": [
       "<div>\n",
       "<style scoped>\n",
       "    .dataframe tbody tr th:only-of-type {\n",
       "        vertical-align: middle;\n",
       "    }\n",
       "\n",
       "    .dataframe tbody tr th {\n",
       "        vertical-align: top;\n",
       "    }\n",
       "\n",
       "    .dataframe thead th {\n",
       "        text-align: right;\n",
       "    }\n",
       "</style>\n",
       "<table border=\"1\" class=\"dataframe\">\n",
       "  <thead>\n",
       "    <tr style=\"text-align: right;\">\n",
       "      <th></th>\n",
       "      <th>fixed acidity</th>\n",
       "      <th>volatile acidity</th>\n",
       "      <th>citric acid</th>\n",
       "      <th>residual sugar</th>\n",
       "      <th>chlorides</th>\n",
       "      <th>free sulfur dioxide</th>\n",
       "      <th>total sulfur dioxide</th>\n",
       "      <th>density</th>\n",
       "      <th>pH</th>\n",
       "      <th>sulphates</th>\n",
       "      <th>alcohol</th>\n",
       "      <th>quality</th>\n",
       "    </tr>\n",
       "  </thead>\n",
       "  <tbody>\n",
       "    <tr>\n",
       "      <th>0</th>\n",
       "      <td>7.4</td>\n",
       "      <td>0.70</td>\n",
       "      <td>0.00</td>\n",
       "      <td>1.9</td>\n",
       "      <td>0.076</td>\n",
       "      <td>11.0</td>\n",
       "      <td>34.0</td>\n",
       "      <td>0.9978</td>\n",
       "      <td>3.51</td>\n",
       "      <td>0.56</td>\n",
       "      <td>9.4</td>\n",
       "      <td>5</td>\n",
       "    </tr>\n",
       "    <tr>\n",
       "      <th>1</th>\n",
       "      <td>7.8</td>\n",
       "      <td>0.88</td>\n",
       "      <td>0.00</td>\n",
       "      <td>2.6</td>\n",
       "      <td>0.098</td>\n",
       "      <td>25.0</td>\n",
       "      <td>67.0</td>\n",
       "      <td>0.9968</td>\n",
       "      <td>3.20</td>\n",
       "      <td>0.68</td>\n",
       "      <td>9.8</td>\n",
       "      <td>5</td>\n",
       "    </tr>\n",
       "    <tr>\n",
       "      <th>2</th>\n",
       "      <td>7.8</td>\n",
       "      <td>0.76</td>\n",
       "      <td>0.04</td>\n",
       "      <td>2.3</td>\n",
       "      <td>0.092</td>\n",
       "      <td>15.0</td>\n",
       "      <td>54.0</td>\n",
       "      <td>0.9970</td>\n",
       "      <td>3.26</td>\n",
       "      <td>0.65</td>\n",
       "      <td>9.8</td>\n",
       "      <td>5</td>\n",
       "    </tr>\n",
       "    <tr>\n",
       "      <th>3</th>\n",
       "      <td>11.2</td>\n",
       "      <td>0.28</td>\n",
       "      <td>0.56</td>\n",
       "      <td>1.9</td>\n",
       "      <td>0.075</td>\n",
       "      <td>17.0</td>\n",
       "      <td>60.0</td>\n",
       "      <td>0.9980</td>\n",
       "      <td>3.16</td>\n",
       "      <td>0.58</td>\n",
       "      <td>9.8</td>\n",
       "      <td>6</td>\n",
       "    </tr>\n",
       "    <tr>\n",
       "      <th>4</th>\n",
       "      <td>7.4</td>\n",
       "      <td>0.70</td>\n",
       "      <td>0.00</td>\n",
       "      <td>1.9</td>\n",
       "      <td>0.076</td>\n",
       "      <td>11.0</td>\n",
       "      <td>34.0</td>\n",
       "      <td>0.9978</td>\n",
       "      <td>3.51</td>\n",
       "      <td>0.56</td>\n",
       "      <td>9.4</td>\n",
       "      <td>5</td>\n",
       "    </tr>\n",
       "  </tbody>\n",
       "</table>\n",
       "</div>"
      ],
      "text/plain": [
       "   fixed acidity  volatile acidity  citric acid  residual sugar  chlorides  \\\n",
       "0            7.4              0.70         0.00             1.9      0.076   \n",
       "1            7.8              0.88         0.00             2.6      0.098   \n",
       "2            7.8              0.76         0.04             2.3      0.092   \n",
       "3           11.2              0.28         0.56             1.9      0.075   \n",
       "4            7.4              0.70         0.00             1.9      0.076   \n",
       "\n",
       "   free sulfur dioxide  total sulfur dioxide  density    pH  sulphates  \\\n",
       "0                 11.0                  34.0   0.9978  3.51       0.56   \n",
       "1                 25.0                  67.0   0.9968  3.20       0.68   \n",
       "2                 15.0                  54.0   0.9970  3.26       0.65   \n",
       "3                 17.0                  60.0   0.9980  3.16       0.58   \n",
       "4                 11.0                  34.0   0.9978  3.51       0.56   \n",
       "\n",
       "   alcohol  quality  \n",
       "0      9.4        5  \n",
       "1      9.8        5  \n",
       "2      9.8        5  \n",
       "3      9.8        6  \n",
       "4      9.4        5  "
      ]
     },
     "execution_count": 61,
     "metadata": {},
     "output_type": "execute_result"
    }
   ],
   "source": [
    "data = pd.read_csv('./winequality-red.csv')\n",
    "data.head()"
   ]
  },
  {
   "cell_type": "code",
   "execution_count": 64,
   "metadata": {},
   "outputs": [
    {
     "name": "stdout",
     "output_type": "stream",
     "text": [
      "Number of features 5\n",
      "Feature Ranking [4 1 2 5 1 6 7 1 1 1 3]\n",
      "Selected features [False  True False False  True False False  True  True  True False]\n"
     ]
    }
   ],
   "source": [
    "X_wine = data.iloc[:,:11]\n",
    "Y_wine = data['quality']\n",
    "\n",
    "#feature extraction using RFC by using Logisticregression\n",
    "from sklearn.feature_selection import RFE\n",
    "from sklearn.linear_model import LogisticRegression\n",
    "model = LogisticRegression()\n",
    "rfe = RFE(model,n_features_to_select=None)\n",
    "ref_fit = rfe.fit(X_wine,Y_wine)\n",
    "print(\"Number of features {}\".format(ref_fit.n_features_))\n",
    "print(\"Feature Ranking {}\".format(ref_fit.ranking_))\n",
    "print(\"Selected features {}\".format(ref_fit.support_))"
   ]
  },
  {
   "cell_type": "code",
   "execution_count": 65,
   "metadata": {},
   "outputs": [
    {
     "name": "stdout",
     "output_type": "stream",
     "text": [
      "NUmber of features [ 0.08003291  0.09425439  0.07726191  0.08390274  0.08029967  0.07442885\n",
      "  0.10350018  0.08848741  0.07499012  0.09611464  0.14672719]\n"
     ]
    }
   ],
   "source": [
    "etc = ExtraTreesClassifier()\n",
    "etc.fit(X_wine,Y_wine)\n",
    "print(\"NUmber of features {}\".format(etc.feature_importances_))"
   ]
  },
  {
   "cell_type": "code",
   "execution_count": 67,
   "metadata": {},
   "outputs": [
    {
     "name": "stdout",
     "output_type": "stream",
     "text": [
      "[  1.12606524e+01   1.55802891e+01   1.30256651e+01   4.12329474e+00\n",
      "   7.52425579e-01   1.61936036e+02   2.75555798e+03   2.30432045e-04\n",
      "   1.54654736e-01   4.55848775e+00   4.64298922e+01]\n"
     ]
    },
    {
     "data": {
      "text/plain": [
       "array([[  0.7  ,  11.   ,  34.   ,   9.4  ],\n",
       "       [  0.88 ,  25.   ,  67.   ,   9.8  ],\n",
       "       [  0.76 ,  15.   ,  54.   ,   9.8  ],\n",
       "       ..., \n",
       "       [  0.51 ,  29.   ,  40.   ,  11.   ],\n",
       "       [  0.645,  32.   ,  44.   ,  10.2  ],\n",
       "       [  0.31 ,  18.   ,  42.   ,  11.   ]])"
      ]
     },
     "execution_count": 67,
     "metadata": {},
     "output_type": "execute_result"
    }
   ],
   "source": [
    "selBest = SelectKBest(score_func=chi2,k=4)\n",
    "selBest_fit = selBest.fit(X_wine,Y_wine)\n",
    "print(selBest_fit.scores_)\n",
    "feature= selBest_fit.transform(X_wine)\n",
    "feature"
   ]
  },
  {
   "cell_type": "markdown",
   "metadata": {},
   "source": [
    "### PCA\n"
   ]
  },
  {
   "cell_type": "code",
   "execution_count": 72,
   "metadata": {},
   "outputs": [
    {
     "name": "stdout",
     "output_type": "stream",
     "text": [
      "Explained Variance [ 0.88854663  0.06159078  0.02579012  0.01308614]\n",
      "[[ -2.02176587e-03   9.78115765e-02   1.60930503e-02   6.07566861e-02\n",
      "    9.93110844e-01   1.40108085e-02   5.37167919e-04  -3.56474430e-03]\n",
      " [ -2.26488861e-02  -9.72210040e-01  -1.41909330e-01   5.78614699e-02\n",
      "    9.46266913e-02  -4.69729766e-02  -8.16804621e-04  -1.40168181e-01]\n",
      " [ -2.24649003e-02   1.43428710e-01  -9.22467192e-01  -3.07013055e-01\n",
      "    2.09773019e-02  -1.32444542e-01  -6.39983017e-04  -1.25454310e-01]\n",
      " [ -4.90459604e-02   1.19830016e-01  -2.62742788e-01   8.84369380e-01\n",
      "   -6.55503615e-02   1.92801728e-01   2.69908637e-03  -3.01024330e-01]]\n"
     ]
    }
   ],
   "source": [
    "from sklearn.decomposition import PCA\n",
    "pca = PCA(n_components=4)\n",
    "pca_fit = pca.fit(X_train)\n",
    "print('Explained Variance {}'.format(pca_fit.explained_variance_ratio_))\n",
    "print(pca_fit.components_)"
   ]
  },
  {
   "cell_type": "code",
   "execution_count": 74,
   "metadata": {},
   "outputs": [
    {
     "name": "stdout",
     "output_type": "stream",
     "text": [
      "Explained Variance [  9.46576976e-01   4.83683046e-02   2.58917183e-03   1.51896798e-03\n",
      "   8.73553990e-04   3.45607218e-05   1.93627614e-05   9.47278079e-06\n",
      "   8.41376628e-06   1.21472798e-06   4.68762788e-10]\n",
      "[[ -6.13247431e-03   3.84465551e-04   1.70902595e-04   8.64894648e-03\n",
      "    6.37307290e-05   2.18857434e-01   9.75678369e-01   3.72498542e-06\n",
      "   -2.68008619e-04   2.23381730e-04  -6.35846721e-03]\n",
      " [ -2.38994985e-02  -2.00966661e-03  -3.03480788e-03   1.11348551e-02\n",
      "   -2.36654751e-04   9.75265982e-01  -2.18916841e-01  -2.49998510e-05\n",
      "    3.27182194e-03   6.18926046e-04   1.45642451e-02]\n",
      " [  9.53135980e-01  -2.51315387e-02   7.37082746e-02   2.80913620e-01\n",
      "    2.94578815e-03   2.08968395e-02  -1.52685886e-03   7.76139600e-04\n",
      "   -5.86305467e-02   1.75252442e-02  -4.85991164e-02]\n",
      " [ -2.65092214e-01   7.27374987e-03  -9.83215158e-03   9.43177990e-01\n",
      "   -6.45262673e-04  -2.11894371e-02  -3.97992967e-03   5.52088341e-05\n",
      "    2.05779719e-02  -7.19926307e-03   1.97613982e-01]\n",
      " [  9.81476468e-02  -4.11570558e-02   4.14815020e-02  -1.76626862e-01\n",
      "   -9.47985067e-03  -7.86843454e-03   1.03231630e-02  -8.33972282e-04\n",
      "    1.26215966e-02   2.35852364e-02   9.77128836e-01]\n",
      " [ -7.93123729e-02  -6.89241790e-01   5.04044257e-01   5.76573957e-03\n",
      "    5.70159846e-02  -1.05989214e-03  -6.14340167e-04  -4.67157195e-04\n",
      "   -1.42001678e-01   4.88427356e-01  -5.08246586e-02]\n",
      " [  1.11415873e-02   4.64366208e-01  -2.05507873e-01   2.49458552e-03\n",
      "    1.13948493e-01  -9.26191533e-05  -2.30257301e-04   1.59988536e-03\n",
      "   -1.02608661e-02   8.53721238e-01   8.24998669e-03]\n",
      " [ -6.49066070e-02   3.38841054e-01   3.27123399e-01  -4.13432131e-03\n",
      "    1.32518260e-01   2.57435147e-03  -1.21187727e-03  -4.10828148e-03\n",
      "   -8.59196803e-01  -1.32919186e-01   2.17794088e-02]\n",
      " [ -1.62056112e-02   4.28631866e-01   7.60466107e-01  -6.93128776e-03\n",
      "    7.21971030e-02   1.49867896e-03  -6.57103967e-04   2.83889045e-03\n",
      "    4.78787810e-01  -5.35682617e-02  -1.80242815e-02]\n",
      " [  1.11894679e-02  -9.15867655e-02  -1.05489073e-01  -1.48602896e-03\n",
      "    9.80249498e-01  -3.17589826e-04   2.60239937e-04   2.03252714e-03\n",
      "    9.06452527e-02  -1.05566655e-01   1.01118356e-02]\n",
      " [ -9.42137146e-04  -7.18832280e-04  -5.84467646e-05  -4.12747476e-04\n",
      "   -1.81878311e-03   8.57545760e-06  -2.65414500e-06   9.99983426e-01\n",
      "   -5.06831403e-03  -1.31065389e-03   9.25261335e-04]]\n"
     ]
    }
   ],
   "source": [
    "from sklearn.decomposition import PCA\n",
    "pca = PCA()\n",
    "pca_fit = pca.fit(X_wine)\n",
    "print('Explained Variance {}'.format(pca_fit.explained_variance_ratio_))\n",
    "print(pca_fit.components_)"
   ]
  },
  {
   "cell_type": "code",
   "execution_count": null,
   "metadata": {
    "collapsed": true
   },
   "outputs": [],
   "source": []
  }
 ],
 "metadata": {
  "kernelspec": {
   "display_name": "Python 3",
   "language": "python",
   "name": "python3"
  },
  "language_info": {
   "codemirror_mode": {
    "name": "ipython",
    "version": 3
   },
   "file_extension": ".py",
   "mimetype": "text/x-python",
   "name": "python",
   "nbconvert_exporter": "python",
   "pygments_lexer": "ipython3",
   "version": "3.6.3"
  }
 },
 "nbformat": 4,
 "nbformat_minor": 2
}
